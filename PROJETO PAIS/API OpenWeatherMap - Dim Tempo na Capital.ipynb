{
 "cells": [
  {
   "cell_type": "code",
   "execution_count": null,
   "id": "343d2830",
   "metadata": {},
   "outputs": [],
   "source": [
    "# ==========================================================\n",
    "# Importando as bibliotecas necessárias\n",
    "# ==========================================================\n",
    "import requests\n",
    "from pyspark.sql import SparkSession  # Para criar e manipular DataFrames no Spark\n",
    "import pandas as pd\n",
    "\n",
    "\n",
    "# Criando a sessão Spark\n",
    "spark = SparkSession.builder \\\n",
    "    .appName(\"API REST Countries\") \\\n",
    "    .getOrCreate()\n",
    "\n",
    "print(\"🚀 SparkSession criada com sucesso!\")"
   ]
  },
  {
   "cell_type": "code",
   "execution_count": null,
   "id": "5941090f",
   "metadata": {},
   "outputs": [],
   "source": [
    "# Lendo a tabela para um DataFrame aux_tabela_dados_clima\n",
    "df_cidades_paises = spark.sql(\"SELECT capital, nome_resumido FROM view_paises_codigos\")"
   ]
  },
  {
   "cell_type": "code",
   "execution_count": null,
   "id": "4eea65ad",
   "metadata": {},
   "outputs": [],
   "source": [
    "# Convertendo para lista de tuplas\n",
    "cidades_paises = [tuple(row) for row in df_cidades_paises.collect()]\n",
    "\n",
    "# Exibindo o resultado\n",
    "print(cidades_paises)"
   ]
  },
  {
   "cell_type": "code",
   "execution_count": null,
   "id": "8bb293f5",
   "metadata": {},
   "outputs": [],
   "source": [
    "# ==========================================\n",
    "# chave da API OpenWeatherMap\n",
    "# ==========================================\n",
    "api_key = \"e0b696d684ea5b8a15f7f141ca979bc3\"  \n",
    "\n",
    "# ==========================================\n",
    "# Lista de cidades + código do país\n",
    "# ==========================================\n",
    "# Filtrando linhas que tenham capital e nome_resumido não nulos ou vazios\n",
    "cidades_paises = [\n",
    "    (row['capital'], row['nome_resumido'])\n",
    "    for row in df_cidades_paises.collect()\n",
    "    if row['capital'] and row['nome_resumido']\n",
    "]\n",
    "\n",
    "\n",
    "# ==========================================\n",
    "# Lista para armazenar os resultados\n",
    "# ==========================================\n",
    "dados_clima = []\n",
    "\n",
    "# ==========================================\n",
    "# Consultar cada cidade na API OpenWeatherMap\n",
    "# ==========================================\n",
    "for cidade, codigo_pais in cidades_paises:\n",
    "    url = \"https://api.openweathermap.org/data/2.5/weather\"\n",
    "    params = {\n",
    "        \"q\": f\"{cidade},{codigo_pais}\",\n",
    "        \"appid\": api_key,\n",
    "        \"units\": \"metric\",\n",
    "        \"lang\": \"pt_br\"\n",
    "    }\n",
    "\n",
    "    resposta = requests.get(url, params=params)\n",
    "\n",
    "    if resposta.status_code == 200:\n",
    "        clima_info = resposta.json()\n",
    "\n",
    "        dados_clima.append({\n",
    "            \"cidade\": cidade,\n",
    "            \"codigo_pais\": clima_info['sys']['country'],\n",
    "            \"temperatura\": clima_info['main']['temp'],\n",
    "            \"sensacao_termica\": clima_info['main']['feels_like'],\n",
    "            \"temperatura_min\": clima_info['main']['temp_min'],\n",
    "            \"temperatura_max\": clima_info['main']['temp_max'],\n",
    "            \"umidade\": clima_info['main']['humidity'],\n",
    "            \"descricao_clima\": clima_info['weather'][0]['description']\n",
    "        })\n",
    "    else:\n",
    "        print(f\"Erro ao consultar clima para: {cidade}, {codigo_pais} | Status: {resposta.status_code} | Erro: {resposta.text}\")\n",
    "\n",
    "# ==========================================\n",
    "# Converter para DataFrame\n",
    "# ==========================================\n",
    "df_clima = pd.DataFrame(dados_clima)\n",
    "print(df_clima)\n"
   ]
  }
 ],
 "metadata": {
  "language_info": {
   "name": "python"
  }
 },
 "nbformat": 4,
 "nbformat_minor": 5
}
